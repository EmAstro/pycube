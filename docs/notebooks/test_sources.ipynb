{
 "cells": [
  {
   "cell_type": "code",
   "execution_count": 45,
   "id": "dd424099",
   "metadata": {
    "ExecuteTime": {
     "end_time": "2022-08-18T03:22:24.526665Z",
     "start_time": "2022-08-18T03:22:24.401380Z"
    }
   },
   "outputs": [],
   "source": [
    "%reload_ext autoreload\n",
    "%autoreload 2"
   ]
  },
  {
   "cell_type": "code",
   "execution_count": 46,
   "id": "16ef100e",
   "metadata": {
    "ExecuteTime": {
     "end_time": "2022-08-18T03:22:25.062513Z",
     "start_time": "2022-08-18T03:22:24.964620Z"
    }
   },
   "outputs": [],
   "source": [
    "from pycube.datacontainers import datacube\n",
    "from pycube.instruments import vlt_muse\n",
    "from pycube.fakesources import fakesource"
   ]
  },
  {
   "cell_type": "code",
   "execution_count": 47,
   "id": "5c095245",
   "metadata": {
    "ExecuteTime": {
     "end_time": "2022-08-18T03:22:25.830031Z",
     "start_time": "2022-08-18T03:22:25.736072Z"
    }
   },
   "outputs": [],
   "source": [
    "datadir = '/Users/emanuele.farina/Dropbox/RequiemSurvey/Data/'\n",
    "fits_file = datadir + 'P183p05/P183p05_DATACUBE_ZAP.fits'"
   ]
  },
  {
   "cell_type": "code",
   "execution_count": 48,
   "id": "bc46138d",
   "metadata": {
    "ExecuteTime": {
     "end_time": "2022-08-18T03:22:27.085467Z",
     "start_time": "2022-08-18T03:22:26.968056Z"
    }
   },
   "outputs": [
    {
     "name": "stderr",
     "output_type": "stream",
     "text": [
      "\u001b[1;30m[WORKING] ::\u001b[0m Loading datacube...\n",
      "\u001b[1;32m[INFO]    ::\u001b[0m Datacube loaded\n",
      "\u001b[1;32m[INFO]    ::\u001b[0m Instrument set to vlt_muse\n"
     ]
    }
   ],
   "source": [
    "musecube = datacube.DataCube(fits_file=fits_file)"
   ]
  },
  {
   "cell_type": "code",
   "execution_count": 53,
   "id": "c7d8673e",
   "metadata": {
    "ExecuteTime": {
     "end_time": "2022-08-18T03:23:10.028188Z",
     "start_time": "2022-08-18T03:23:09.225015Z"
    }
   },
   "outputs": [
    {
     "data": {
      "text/plain": [
       "array([[[-3.7902149e+01, -7.9767342e+01, -2.7086781e+01, ...,\n",
       "         -2.0820370e-04, -3.2968706e-05, -3.3479425e-06],\n",
       "        [-3.7144428e+01, -7.6887810e+01, -3.0590834e+01, ...,\n",
       "         -1.3191194e-03, -1.8443629e-04, -1.6532986e-05],\n",
       "        [-3.8519493e+01, -3.3277092e+01, -2.0440844e+01, ...,\n",
       "         -6.6840313e-03, -7.8001583e-04, -5.9920509e-05],\n",
       "        ...,\n",
       "        [ 0.0000000e+00,  0.0000000e+00,  0.0000000e+00, ...,\n",
       "         -2.7941293e-01, -6.5295726e-02, -1.1432927e-02],\n",
       "        [ 0.0000000e+00,  0.0000000e+00,  0.0000000e+00, ...,\n",
       "         -8.6335748e-02, -2.3617506e-02, -4.6734582e-03],\n",
       "        [ 0.0000000e+00,  0.0000000e+00,  0.0000000e+00, ...,\n",
       "         -2.1253403e-02, -6.5820534e-03, -1.4640855e-03]],\n",
       "\n",
       "       [[ 1.1905795e+01, -3.4291100e+01, -1.9893599e+01, ...,\n",
       "         -2.2864623e-03, -6.6685857e-04, -1.4523235e-04],\n",
       "        [ 1.2345463e+01, -4.0308769e+01, -3.3813534e+01, ...,\n",
       "         -1.3072670e-02, -3.3643141e-03, -6.5214845e-04],\n",
       "        [-8.8991423e+00, -2.7059032e+01, -4.0072197e+01, ...,\n",
       "         -5.8290914e-02, -1.2635789e-02, -2.1615427e-03],\n",
       "        ...,\n",
       "        [ 0.0000000e+00,  0.0000000e+00,  0.0000000e+00, ...,\n",
       "          3.2834501e+00,  9.8111808e-01,  2.1893698e-01],\n",
       "        [ 0.0000000e+00,  0.0000000e+00,  0.0000000e+00, ...,\n",
       "          1.1340475e+00,  3.7906700e-01,  9.4104916e-02],\n",
       "        [ 0.0000000e+00,  0.0000000e+00,  0.0000000e+00, ...,\n",
       "          3.0142617e-01,  1.1163921e-01,  3.0859297e-02]],\n",
       "\n",
       "       [[ 1.8164888e+01,  1.1395856e+01, -6.2095103e+00, ...,\n",
       "          2.0709338e-03,  6.5058254e-04,  1.4933060e-04],\n",
       "        [ 1.8309406e+01, -6.0966167e+00, -1.6805901e+01, ...,\n",
       "          1.2579504e-02,  3.5106936e-03,  7.2007265e-04],\n",
       "        [-7.7091927e+01, -4.7534462e+01, -2.4022345e+01, ...,\n",
       "          6.1046585e-02,  1.4471690e-02,  2.6325160e-03],\n",
       "        ...,\n",
       "        [ 0.0000000e+00,  0.0000000e+00,  0.0000000e+00, ...,\n",
       "          1.1081884e+00,  3.0733061e-01,  6.4522713e-02],\n",
       "        [ 0.0000000e+00,  0.0000000e+00,  0.0000000e+00, ...,\n",
       "          4.0566862e-01,  1.2563241e-01,  2.9289991e-02],\n",
       "        [ 0.0000000e+00,  0.0000000e+00,  0.0000000e+00, ...,\n",
       "          1.1242730e-01,  3.8590487e-02,  1.0015875e-02]],\n",
       "\n",
       "       ...,\n",
       "\n",
       "       [[-7.1162338e+01,  3.7453640e+00, -2.6529318e+01, ...,\n",
       "         -3.6540618e-03, -7.8722805e-04, -1.3596287e-04],\n",
       "        [-3.8396725e+01, -4.4024063e+01, -5.2410442e+01, ...,\n",
       "         -2.0937121e-02, -4.1397689e-03, -6.5785187e-04],\n",
       "        [-8.3184147e+00, -1.2389311e+01, -7.5473475e+00, ...,\n",
       "         -1.0177275e-01, -1.7705113e-02, -2.5703756e-03],\n",
       "        ...,\n",
       "        [ 0.0000000e+00,  0.0000000e+00,  0.0000000e+00, ...,\n",
       "          6.1973172e-01,  1.8002298e-01,  4.0222622e-02],\n",
       "        [ 0.0000000e+00,  0.0000000e+00,  0.0000000e+00, ...,\n",
       "          1.6715835e-01,  5.6127712e-02,  1.4097438e-02],\n",
       "        [ 0.0000000e+00,  0.0000000e+00,  0.0000000e+00, ...,\n",
       "          3.5803556e-02,  1.3502620e-02,  3.7939136e-03]],\n",
       "\n",
       "       [[-1.5438597e+02, -3.4927525e+01, -5.3131222e+01, ...,\n",
       "         -3.2094226e-04, -9.9172205e-05, -2.2058763e-05],\n",
       "        [-3.5493023e+01, -3.8680939e+01, -5.6899948e+01, ...,\n",
       "         -2.7139657e-03, -7.1587885e-04, -1.3931257e-04],\n",
       "        [-1.8736553e+01, -2.1430277e+01, -5.8071985e+00, ...,\n",
       "         -1.8817194e-02, -4.0719183e-03, -6.8964931e-04],\n",
       "        ...,\n",
       "        [ 0.0000000e+00,  0.0000000e+00,  0.0000000e+00, ...,\n",
       "          1.7593206e+00,  4.4067013e-01,  8.6925089e-02],\n",
       "        [ 0.0000000e+00,  0.0000000e+00,  0.0000000e+00, ...,\n",
       "          4.7951892e-01,  1.3841476e-01,  3.0640336e-02],\n",
       "        [ 0.0000000e+00,  0.0000000e+00,  0.0000000e+00, ...,\n",
       "          1.0200020e-01,  3.3074863e-02,  8.1958417e-03]],\n",
       "\n",
       "       [[ 0.0000000e+00,  0.0000000e+00,  0.0000000e+00, ...,\n",
       "          0.0000000e+00,  0.0000000e+00,  0.0000000e+00],\n",
       "        [ 0.0000000e+00,  0.0000000e+00,  0.0000000e+00, ...,\n",
       "          0.0000000e+00,  0.0000000e+00,  0.0000000e+00],\n",
       "        [ 0.0000000e+00,  0.0000000e+00,  0.0000000e+00, ...,\n",
       "          0.0000000e+00,  0.0000000e+00,  0.0000000e+00],\n",
       "        ...,\n",
       "        [ 0.0000000e+00,  0.0000000e+00,  0.0000000e+00, ...,\n",
       "          0.0000000e+00,  0.0000000e+00,  0.0000000e+00],\n",
       "        [ 0.0000000e+00,  0.0000000e+00,  0.0000000e+00, ...,\n",
       "          0.0000000e+00,  0.0000000e+00,  0.0000000e+00],\n",
       "        [ 0.0000000e+00,  0.0000000e+00,  0.0000000e+00, ...,\n",
       "          0.0000000e+00,  0.0000000e+00,  0.0000000e+00]]], dtype=float32)"
      ]
     },
     "execution_count": 53,
     "metadata": {},
     "output_type": "execute_result"
    }
   ],
   "source": [
    "musecube.get_data()"
   ]
  },
  {
   "cell_type": "code",
   "execution_count": 27,
   "id": "db665b52",
   "metadata": {
    "ExecuteTime": {
     "end_time": "2022-08-18T02:47:21.701008Z",
     "start_time": "2022-08-18T02:47:21.580969Z"
    }
   },
   "outputs": [
    {
     "name": "stderr",
     "output_type": "stream",
     "text": [
      "\u001b[1;30m[WORKING] ::\u001b[0m Loading datacube...\n",
      "\u001b[1;32m[INFO]    ::\u001b[0m Datacube loaded\n"
     ]
    }
   ],
   "source": [
    "data_copy = musecube.copy()"
   ]
  },
  {
   "cell_type": "code",
   "execution_count": 111,
   "id": "c69cca56",
   "metadata": {
    "ExecuteTime": {
     "end_time": "2022-08-18T03:45:55.915119Z",
     "start_time": "2022-08-18T03:45:55.800881Z"
    }
   },
   "outputs": [],
   "source": [
    "test = fakesource.GaussianSource(amplitude=1000., x_spatial=100., y_spatial=100., z_spectral=1000.,\n",
    "                                 x_stddev=30., y_stddev=30.)"
   ]
  },
  {
   "cell_type": "code",
   "execution_count": 96,
   "id": "0b74711c",
   "metadata": {
    "ExecuteTime": {
     "end_time": "2022-08-18T03:37:49.020005Z",
     "start_time": "2022-08-18T03:37:48.905541Z"
    }
   },
   "outputs": [],
   "source": [
    "x = np.arange(0., 10., 0.1)\n",
    "gauss = test.spectral_shape.evaluate(x,amplitude=test.spectral_shape.amplitude,\n",
    "                                     mean=test.spectral_shape.mean, stddev=test.spectral_shape.stddev)"
   ]
  },
  {
   "cell_type": "code",
   "execution_count": 97,
   "id": "ee1fcf7b",
   "metadata": {
    "ExecuteTime": {
     "end_time": "2022-08-18T03:37:49.615211Z",
     "start_time": "2022-08-18T03:37:49.494847Z"
    }
   },
   "outputs": [],
   "source": [
    "import matplotlib.pyplot as plt"
   ]
  },
  {
   "cell_type": "code",
   "execution_count": 98,
   "id": "3240ca28",
   "metadata": {
    "ExecuteTime": {
     "end_time": "2022-08-18T03:37:50.289011Z",
     "start_time": "2022-08-18T03:37:50.082801Z"
    }
   },
   "outputs": [
    {
     "data": {
      "text/plain": [
       "[<matplotlib.lines.Line2D at 0x7febbcff6be0>]"
      ]
     },
     "execution_count": 98,
     "metadata": {},
     "output_type": "execute_result"
    },
    {
     "data": {
      "image/png": "[encoded data removed]",
      "text/plain": [
       "<Figure size 432x288 with 1 Axes>"
      ]
     },
     "metadata": {
      "needs_background": "light"
     },
     "output_type": "display_data"
    }
   ],
   "source": [
    "plt.plot(x,gauss )"
   ]
  },
  {
   "cell_type": "code",
   "execution_count": 101,
   "id": "34e0e89e",
   "metadata": {
    "ExecuteTime": {
     "end_time": "2022-08-18T03:38:52.236645Z",
     "start_time": "2022-08-18T03:38:51.653674Z"
    }
   },
   "outputs": [],
   "source": [
    "x = np.arange(data_copy.get_data().shape[0])\n",
    "gauss = test.spectral_shape.evaluate(x,amplitude=test.spectral_shape.amplitude,\n",
    "                                     mean=test.spectral_shape.mean, stddev=200.)"
   ]
  },
  {
   "cell_type": "code",
   "execution_count": 102,
   "id": "fc227463",
   "metadata": {
    "ExecuteTime": {
     "end_time": "2022-08-18T03:38:52.945214Z",
     "start_time": "2022-08-18T03:38:52.730802Z"
    }
   },
   "outputs": [
    {
     "data": {
      "text/plain": [
       "[<matplotlib.lines.Line2D at 0x7febbd130e20>]"
      ]
     },
     "execution_count": 102,
     "metadata": {},
     "output_type": "execute_result"
    },
    {
     "data": {
      "image/png": "[encoded data removed]",
      "text/plain": [
       "<Figure size 432x288 with 1 Axes>"
      ]
     },
     "metadata": {
      "needs_background": "light"
     },
     "output_type": "display_data"
    }
   ],
   "source": [
    "plt.plot(x,gauss )"
   ]
  },
  {
   "cell_type": "code",
   "execution_count": 108,
   "id": "b9ff52c7",
   "metadata": {
    "ExecuteTime": {
     "end_time": "2022-08-18T03:45:15.240451Z",
     "start_time": "2022-08-18T03:45:14.287802Z"
    }
   },
   "outputs": [],
   "source": [
    "y, x = np.mgrid[0:data_copy.get_data().shape[1], 0:data_copy.get_data().shape[2]] "
   ]
  },
  {
   "cell_type": "code",
   "execution_count": 112,
   "id": "da175406",
   "metadata": {
    "ExecuteTime": {
     "end_time": "2022-08-18T03:45:59.889986Z",
     "start_time": "2022-08-18T03:45:59.768057Z"
    }
   },
   "outputs": [],
   "source": [
    "data = test.spatial_shape(y, x)"
   ]
  },
  {
   "cell_type": "code",
   "execution_count": 113,
   "id": "677024e0",
   "metadata": {
    "ExecuteTime": {
     "end_time": "2022-08-18T03:46:00.752251Z",
     "start_time": "2022-08-18T03:46:00.511891Z"
    }
   },
   "outputs": [
    {
     "data": {
      "text/plain": [
       "<matplotlib.image.AxesImage at 0x7febbd92cfd0>"
      ]
     },
     "execution_count": 113,
     "metadata": {},
     "output_type": "execute_result"
    },
    {
     "data": {
      "image/png": "[encoded data removed]",
      "text/plain": [
       "<Figure size 432x288 with 1 Axes>"
      ]
     },
     "metadata": {
      "needs_background": "light"
     },
     "output_type": "display_data"
    }
   ],
   "source": [
    "plt.imshow(data, origin='lower')"
   ]
  },
  {
   "cell_type": "code",
   "execution_count": 114,
   "id": "2918d1b6",
   "metadata": {
    "ExecuteTime": {
     "end_time": "2022-08-18T04:20:03.003156Z",
     "start_time": "2022-08-18T04:20:02.811705Z"
    }
   },
   "outputs": [
    {
     "data": {
      "text/plain": [
       "array([[  0,   1,   2, ..., 317, 318, 319],\n",
       "       [  0,   1,   2, ..., 317, 318, 319],\n",
       "       [  0,   1,   2, ..., 317, 318, 319],\n",
       "       ...,\n",
       "       [  0,   1,   2, ..., 317, 318, 319],\n",
       "       [  0,   1,   2, ..., 317, 318, 319],\n",
       "       [  0,   1,   2, ..., 317, 318, 319]])"
      ]
     },
     "execution_count": 114,
     "metadata": {},
     "output_type": "execute_result"
    }
   ],
   "source": [
    "x"
   ]
  },
  {
   "cell_type": "code",
   "execution_count": null,
   "id": "5bbd4f21",
   "metadata": {},
   "outputs": [],
   "source": []
  }
 ],
 "metadata": {
  "kernelspec": {
   "display_name": "py39",
   "language": "python",
   "name": "py39"
  },
  "language_info": {
   "codemirror_mode": {
    "name": "ipython",
    "version": 3
   },
   "file_extension": ".py",
   "mimetype": "text/x-python",
   "name": "python",
   "nbconvert_exporter": "python",
   "pygments_lexer": "ipython3",
   "version": "3.9.7"
  },
  "toc": {
   "base_numbering": 1,
   "nav_menu": {},
   "number_sections": true,
   "sideBar": true,
   "skip_h1_title": false,
   "title_cell": "Table of Contents",
   "title_sidebar": "Contents",
   "toc_cell": false,
   "toc_position": {},
   "toc_section_display": true,
   "toc_window_display": false
  },
  "varInspector": {
   "cols": {
    "lenName": 16,
    "lenType": 16,
    "lenVar": 40
   },
   "kernels_config": {
    "python": {
     "delete_cmd_postfix": "",
     "delete_cmd_prefix": "del ",
     "library": "var_list.py",
     "varRefreshCmd": "print(var_dic_list())"
    },
    "r": {
     "delete_cmd_postfix": ") ",
     "delete_cmd_prefix": "rm(",
     "library": "var_list.r",
     "varRefreshCmd": "cat(var_dic_list()) "
    }
   },
   "types_to_exclude": [
    "module",
    "function",
    "builtin_function_or_method",
    "instance",
    "_Feature"
   ],
   "window_display": false
  }
 },
 "nbformat": 4,
 "nbformat_minor": 5
}
